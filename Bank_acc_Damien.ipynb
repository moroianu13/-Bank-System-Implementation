{
 "cells": [
  {
   "cell_type": "markdown",
   "metadata": {},
   "source": [
    "### Exercise: Bank System Implementation\n",
    "\n",
    "#### Part 1: Bank Account Class\n",
    "Create a class called `BankAccount` to represent a basic bank account.\n",
    "\n",
    "1. **Attributes:**\n",
    "   - `account_number`: The unique identifier for the account.\n",
    "   - `balance`: The current balance of the account.\n",
    "   - `owner_name`: The name of the account holder.\n",
    "\n",
    "2. **Methods:**\n",
    "   - `deposit(amount)`: Add funds to the account.\n",
    "   - `withdraw(amount)`: Withdraw funds from the account."
   ]
  },
  {
   "cell_type": "code",
   "execution_count": 1,
   "metadata": {},
   "outputs": [
    {
     "name": "stdout",
     "output_type": "stream",
     "text": [
      "Transaction Log for Account Number: 123456789\n",
      "Timestamp: 2024-05-13 11:42:36.201732\n",
      "Transaction Type: Deposit\n",
      "Amount: 1000\n",
      "Timestamp: 2024-05-13 11:42:36.201732\n",
      "Transaction Type: Withdrawal\n",
      "Amount: 500\n",
      "Timestamp: 2024-05-13 11:42:36.201732\n",
      "Transaction Type: Deposit\n",
      "Amount: 200\n",
      "Timestamp: 2024-05-13 11:42:36.201732\n",
      "Transaction Type: Withdrawal\n",
      "Amount: 300\n",
      "Timestamp: 2024-05-13 11:42:36.201732\n",
      "Transaction Type: Deposit\n",
      "Amount: 700\n",
      "End of Transaction Log\n",
      "Account Number: 123456789\n",
      "Owner Name: Damien\n",
      "Current Balance: 40000\n",
      "Transaction Log:\n",
      "Timestamp: 2024-05-13 11:42:36.202233\n",
      "Transaction Type: Deposit\n",
      "Amount: 50000\n",
      "Timestamp: 2024-05-13 11:42:36.202233\n",
      "Transaction Type: Withdrawal\n",
      "Amount: 10000\n"
     ]
    }
   ],
   "source": [
    "from datetime import datetime as dt\n",
    "\n",
    "class BankAccount:\n",
    "    def __init__(self, account_number, owner_name):\n",
    "        self.account_number = account_number\n",
    "        self.owner_name = owner_name\n",
    "        self.balance = 0\n",
    "        self.transactions = []\n",
    "        \n",
    "    def deposit(self, amount):\n",
    "        self.balance += amount\n",
    "        self.log_transaction(amount, \"Deposit\")\n",
    "        \n",
    "    def withdraw(self, amount):\n",
    "        if self.balance >= amount:\n",
    "            self.balance -= amount\n",
    "            self.log_transaction(amount, \"Withdrawal\")\n",
    "        else:\n",
    "            print(\"Insufficient funds\")\n",
    "            \n",
    "    def log_transaction(self, amount, transaction_type):\n",
    "        timestamp = dt.now()\n",
    "        self.transactions.append((timestamp, transaction_type, amount))\n",
    "\n",
    "\n",
    "#Part 5\n",
    "\n",
    "    def display_transactions(self):\n",
    "        print(\"Transaction Log for Account Number:\", self.account_number)\n",
    "        for transaction in self.transactions:\n",
    "            print(\"Timestamp:\", transaction[0])\n",
    "            print(\"Transaction Type:\", transaction[1])\n",
    "            print(\"Amount:\", transaction[2])\n",
    "        print(\"End of Transaction Log\")\n",
    "\n",
    "\n",
    "# Test the extended BankAccount class\n",
    "account = BankAccount(\"123456789\", \"Alice\")\n",
    "account.deposit(1000)\n",
    "account.withdraw(500)\n",
    "account.deposit(200)\n",
    "account.withdraw(300)\n",
    "account.deposit(700)\n",
    "# Display transaction log for the account\n",
    "account.display_transactions()\n",
    "\n",
    "\n",
    "# Test the BankAccount class\n",
    "account = BankAccount(\"123456789\", \"Damien\")\n",
    "account.deposit(50000)\n",
    "account.withdraw(10000)\n",
    "\n",
    "# Print account details and transaction log\n",
    "print(\"Account Number:\", account.account_number)\n",
    "print(\"Owner Name:\", account.owner_name)\n",
    "print(\"Current Balance:\", account.balance)\n",
    "print(\"Transaction Log:\")\n",
    "for transaction in account.transactions:\n",
    "    print(\"Timestamp:\", transaction[0])\n",
    "    print(\"Transaction Type:\", transaction[1])\n",
    "    print(\"Amount:\", transaction[2])"
   ]
  },
  {
   "cell_type": "markdown",
   "metadata": {},
   "source": [
    "#### Part 2: Savings Account Class\n",
    "Create a subclass called `SavingsAccount` that inherits from `BankAccount`.\n",
    "\n",
    "3. **Additional Method:**\n",
    "   - `calculate_interest(rate)`: Calculate monthly interest on the balance based on the given interest rate."
   ]
  },
  {
   "cell_type": "code",
   "execution_count": 40,
   "metadata": {},
   "outputs": [
    {
     "name": "stdout",
     "output_type": "stream",
     "text": [
      "Account Number: 012304506\n",
      "Owner Name: Damien\n",
      "Current Balance with Interest: 10041.666666666666\n"
     ]
    }
   ],
   "source": [
    "class SavingsAccount(BankAccount):\n",
    "    def calculate_interest(self, rate):\n",
    "        monthly_interest=self.balance* (rate/100)/12\n",
    "        self.deposit(monthly_interest)\n",
    "        \n",
    " # Test the SavingsAccount class       \n",
    "savings_account=SavingsAccount(\"012304506\",\"Damien\")\n",
    "savings_account.deposit(10000)\n",
    "savings_account.calculate_interest(5)\n",
    "# Print account details and updated balance with interest\n",
    "print(\"Account Number:\", savings_account.account_number)\n",
    "print(\"Owner Name:\", savings_account.owner_name)\n",
    "print(\"Current Balance with Interest:\", savings_account.balance)       "
   ]
  },
  {
   "cell_type": "markdown",
   "metadata": {},
   "source": [
    "#### Part 3: Customer Class\n",
    "Create a class called `Customer` to represent a bank customer.\n",
    "\n",
    "4. **Attributes:**\n",
    "   - `customer_id`: The unique identifier for the customer.\n",
    "   - `name`: The name of the customer.\n",
    "   - `accounts`: A list to store the customer's accounts.\n",
    "\n",
    "5. **Method:**\n",
    "   - `add_account(account)`: Add a new account to the customer's list."
   ]
  },
  {
   "cell_type": "code",
   "execution_count": 41,
   "metadata": {},
   "outputs": [
    {
     "name": "stdout",
     "output_type": "stream",
     "text": [
      "Customer ID: A001\n",
      "Customer Name: Damien\n",
      "Customer's Accounts: ['123456789', '123456789']\n"
     ]
    }
   ],
   "source": [
    "\n",
    "class Customer:\n",
    "    def __init__(self , customer_id , name):\n",
    "        self.customer_id=customer_id\n",
    "        self.name=name\n",
    "        self.accounts=[]\n",
    "        \n",
    "    def add_account(self, aacount):\n",
    "        self.accounts.append(account)\n",
    "  \n",
    "  # Test the Customer class      \n",
    "customer=Customer(\"A001\",\"Damien\")    \n",
    "account1=BankAccount(\"111\", \"Checking\")\n",
    "account2=SavingsAccount(\"222\",\"Savings\")\n",
    "customer.add_account(account1)\n",
    "customer.add_account(account2)\n",
    "  # Print customer details and account numbers\n",
    "\n",
    "print(\"Customer ID:\", customer.customer_id)\n",
    "print(\"Customer Name:\", customer.name)\n",
    "print(\"Customer's Accounts:\", [acc.account_number for acc in customer.accounts])\n"
   ]
  },
  {
   "cell_type": "markdown",
   "metadata": {},
   "source": [
    "#### Part 4: Bank Class\n",
    "Create a class called `Bank` to represent a bank system.\n",
    "\n",
    "6. **Attributes:**\n",
    "   - `customers`: A list to store the bank's customers.\n",
    "\n",
    "7. **Methods:**\n",
    "   - `add_customer(customer)`: Add a new customer to the bank's list.\n",
    "   - `find_customer_by_id(customer_id)`: Find a customer by their ID.\n"
   ]
  },
  {
   "cell_type": "code",
   "execution_count": 44,
   "metadata": {},
   "outputs": [
    {
     "name": "stdout",
     "output_type": "stream",
     "text": [
      "Found Customer Name: Damien\n"
     ]
    }
   ],
   "source": [
    "class Bank:\n",
    "    def __init__(self):\n",
    "        self.customers = []\n",
    "        \n",
    "    def add_customer(self, customer):\n",
    "        self.customers.append(customer)\n",
    "        \n",
    "    def find_customer_by_id(self, customer_id):\n",
    "        for customer in self.customers:\n",
    "            if customer.customer_id == customer_id:\n",
    "                return customer\n",
    "        return None\n",
    "\n",
    "# Test the Bank class\n",
    "bank = Bank()\n",
    "bank.add_customer(customer)\n",
    "found_customer = bank.find_customer_by_id(\"A001\")\n",
    "\n",
    "# Print the found customer's name or a message if not found\n",
    "print(\"Found Customer Name:\", found_customer.name if found_customer else \"Not found\")\n",
    "\n",
    "\n",
    "  \n",
    "    "
   ]
  },
  {
   "cell_type": "markdown",
   "metadata": {},
   "source": [
    "#### Part 5: Transaction Logging\n",
    "Extend the `BankAccount` class to log all transactions."
   ]
  },
  {
   "cell_type": "code",
   "execution_count": null,
   "metadata": {},
   "outputs": [],
   "source": []
  }
 ],
 "metadata": {
  "kernelspec": {
   "display_name": "Python 3",
   "language": "python",
   "name": "python3"
  },
  "language_info": {
   "codemirror_mode": {
    "name": "ipython",
    "version": 3
   },
   "file_extension": ".py",
   "mimetype": "text/x-python",
   "name": "python",
   "nbconvert_exporter": "python",
   "pygments_lexer": "ipython3",
   "version": "3.12.3"
  }
 },
 "nbformat": 4,
 "nbformat_minor": 2
}
